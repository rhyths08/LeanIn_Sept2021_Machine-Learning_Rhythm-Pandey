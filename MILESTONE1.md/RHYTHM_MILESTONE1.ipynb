{
 "cells": [
  {
   "cell_type": "markdown",
   "id": "937c7e39",
   "metadata": {},
   "source": [
    "# Q1 WAP with a function to print all the Armstrong numbers between 1 to 500"
   ]
  },
  {
   "cell_type": "code",
   "execution_count": 2,
   "id": "e1fbd10b",
   "metadata": {},
   "outputs": [
    {
     "name": "stdout",
     "output_type": "stream",
     "text": [
      "1\n",
      "153\n",
      "370\n",
      "371\n",
      "407\n"
     ]
    }
   ],
   "source": [
    "def armstrong(i):\n",
    "    n=i\n",
    "    j=0\n",
    "    s=0\n",
    "    while n>0:\n",
    "        j=n%10\n",
    "        s=s+pow(j,3)\n",
    "        n=n//10\n",
    "    return s\n",
    "\n",
    "for i in range(1,500):\n",
    "    if(i==armstrong(i)):\n",
    "        print(i)  "
   ]
  },
  {
   "cell_type": "markdown",
   "id": "d7926bbc",
   "metadata": {},
   "source": [
    "# Q2. WAP with functions that respectively return the number of consonants and vowels in a given string. (Note: the string should be a sentence with at least 4 words.)"
   ]
  },
  {
   "cell_type": "code",
   "execution_count": 3,
   "id": "2b59885d",
   "metadata": {},
   "outputs": [
    {
     "name": "stdout",
     "output_type": "stream",
     "text": [
      "Enter a string: My name is RHYTHM PANDEY!!\n",
      "No. of consonat: 15 \n",
      " No. of vowel: 5\n"
     ]
    }
   ],
   "source": [
    "def count(s):\n",
    "    c1=0\n",
    "    c2=0\n",
    "    s=s.lower()\n",
    "    for i in range(0,len(s)):\n",
    "        if(s[i]=='a'or s[i]== 'e'or s[i]== 'i'or s[i]== 'o'or s[i]== 'u'):\n",
    "            c1=c1+1\n",
    "        elif(s[i]>=\"b\" and s[i]<=\"z\"):\n",
    "            c2=c2+1\n",
    "    print(f\"No. of consonat: {c2} \\n No. of vowel: {c1}\")\n",
    "\n",
    "\n",
    "s=input(\"Enter a string: \")\n",
    "count(s)"
   ]
  },
  {
   "cell_type": "markdown",
   "id": "e046a5e7",
   "metadata": {},
   "source": [
    "# Q3. WAP to print the diagonal sum of the transpose of a given 2-d array."
   ]
  },
  {
   "cell_type": "code",
   "execution_count": 5,
   "id": "5d6d09ba",
   "metadata": {},
   "outputs": [
    {
     "name": "stdout",
     "output_type": "stream",
     "text": [
      "15\n"
     ]
    }
   ],
   "source": [
    "import numpy as np\n",
    "A = np.array([[1,2,3],[4,5,6],[7,8,9]])\n",
    "A.T\n",
    "print(A.diagonal().sum())"
   ]
  },
  {
   "cell_type": "markdown",
   "id": "0b45c468",
   "metadata": {},
   "source": [
    "# Q4. WAP with a function that returns the sum the series 4/3 + 9/4 + 16/5 + 25/6 + ....... nth term."
   ]
  },
  {
   "cell_type": "code",
   "execution_count": 15,
   "id": "e51da6e6",
   "metadata": {},
   "outputs": [
    {
     "name": "stdout",
     "output_type": "stream",
     "text": [
      "Enter the no. of terms in the series: 10\n"
     ]
    },
    {
     "data": {
      "text/plain": [
       "432245.7003938213"
      ]
     },
     "execution_count": 15,
     "metadata": {},
     "output_type": "execute_result"
    }
   ],
   "source": [
    "def sum(n):\n",
    "    i=4\n",
    "    j=3\n",
    "    s=0\n",
    "    for c in range(1,n+1):\n",
    "        s=s+(i/j)\n",
    "        t=i\n",
    "        i=j*j\n",
    "        j=t\n",
    "    return s\n",
    "n=int(input(\"Enter the no. of terms in the series: \"))\n",
    "sum(n)"
   ]
  },
  {
   "cell_type": "markdown",
   "id": "76896e55",
   "metadata": {},
   "source": [
    "# Q5. WAP with a recursive function to check whether a string is palindrome or not."
   ]
  },
  {
   "cell_type": "code",
   "execution_count": 8,
   "id": "d098b615",
   "metadata": {},
   "outputs": [
    {
     "name": "stdout",
     "output_type": "stream",
     "text": [
      "Enter a string to check pallindrome: radar\n",
      "radar is pallindrome \n"
     ]
    }
   ],
   "source": [
    "def palindrome(s,i,j):\n",
    "    t=1\n",
    "    if(i==j):\n",
    "        return t\n",
    "        \n",
    "    elif(s[i]==s[j]):\n",
    "        return palindrome(s,i+1,j-1)\n",
    "    \n",
    "    else:\n",
    "        t=0\n",
    "        return t\n",
    "                    \n",
    "                    \n",
    "s=input(\"Enter a string to check pallindrome: \")\n",
    "i=palindrome(s,0,len(s)-1)\n",
    "if(i==1):\n",
    "        print(f\"{s} is pallindrome \")\n",
    "else:\n",
    "        print(f\"{s} is not pallindrome\")                   "
   ]
  },
  {
   "cell_type": "code",
   "execution_count": null,
   "id": "4d8271da",
   "metadata": {},
   "outputs": [],
   "source": []
  }
 ],
 "metadata": {
  "kernelspec": {
   "display_name": "Python 3",
   "language": "python",
   "name": "python3"
  },
  "language_info": {
   "codemirror_mode": {
    "name": "ipython",
    "version": 3
   },
   "file_extension": ".py",
   "mimetype": "text/x-python",
   "name": "python",
   "nbconvert_exporter": "python",
   "pygments_lexer": "ipython3",
   "version": "3.8.8"
  }
 },
 "nbformat": 4,
 "nbformat_minor": 5
}
